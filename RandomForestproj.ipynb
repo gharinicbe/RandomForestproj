{
 "cells": [
  {
   "cell_type": "code",
   "execution_count": 1,
   "id": "71f4a865",
   "metadata": {},
   "outputs": [],
   "source": [
    "#!pip install opencv-python"
   ]
  },
  {
   "cell_type": "code",
   "execution_count": 2,
   "id": "a1c526c9",
   "metadata": {},
   "outputs": [],
   "source": [
    "import pandas as pd\n",
    "import matplotlib.pyplot as plt\n",
    "import numpy as nb\n",
    "from tensorflow import keras\n",
    "from sklearn.metrics import accuracy_score,confusion_matrix,classification_report\n",
    "import cv2"
   ]
  },
  {
   "cell_type": "code",
   "execution_count": 3,
   "id": "3e47f0bb",
   "metadata": {},
   "outputs": [],
   "source": [
    "(x_train, y_train), (x_test, y_test) = keras.datasets.cifar10.load_data()"
   ]
  },
  {
   "cell_type": "code",
   "execution_count": 4,
   "id": "537e124c",
   "metadata": {},
   "outputs": [
    {
     "name": "stdout",
     "output_type": "stream",
     "text": [
      "((50000, 32, 32, 3), (50000, 1)) ((10000, 32, 32, 3), (10000, 1))\n"
     ]
    }
   ],
   "source": [
    "print((x_train.shape, y_train.shape), (x_test.shape, y_test.shape))"
   ]
  },
  {
   "cell_type": "markdown",
   "id": "be3f0856",
   "metadata": {},
   "source": [
    "There is a total of 50,000 images for training and 10,000 images for testing. Besides, each of these images is of dimensions 32×32 and colour(RBG). The above details can be easily inferred from the shape returned."
   ]
  },
  {
   "cell_type": "markdown",
   "id": "bde1501e",
   "metadata": {},
   "source": [
    "Normalization is a common step of image pre-processing and is achieved by simply dividing x_train by 255.0 for the train dataset and x_test by 255.0 for the test dataset. This is essential to maintain the pixels of all the images within a uniform range.\n",
    "\n",
    "The pixel values in an image are typically represented as integers ranging from 0 to 255, with 0 being the darkest color (black) and 255 being the lightest color (white). However, when working with machine learning algorithms, it is often beneficial to normalize these pixel values to a range between 0 and 1 or -1 and 1.\n",
    "\n",
    "The main reason for this is that machine learning algorithms typically work better when the input data is centered around zero and has a small variance. When the pixel values are in the range of 0 to 255, they can have a high variance, which can make it difficult for the algorithm to converge during training. Normalizing the pixel values to a smaller range reduces the variance and makes it easier for the algorithm to learn the patterns in the data.\n",
    "\n",
    "Dividing the pixel values by 255.0 is a common way to normalize the pixel values in an image to the range of 0 to 1. This works because dividing by the maximum possible pixel value (255) scales the pixel values down to the range of 0 to 1. For example, a pixel value of 128 would be scaled down to 0.5 (128 / 255), and a pixel value of 0 would be scaled down to 0 (0 / 255).\n",
    "\n",
    "In summary, normalization with pixel values helps to standardize the range of pixel values in an image to a common scale, which can improve the performance of machine learning models by making the data more consistent and easier to train on. Dividing the pixel values by 255.0 is a common way to achieve this normalization.\n"
   ]
  },
  {
   "cell_type": "code",
   "execution_count": 5,
   "id": "9e5d1df1",
   "metadata": {},
   "outputs": [],
   "source": [
    "# Normalization\n",
    "x_train = x_train/255.0\n",
    "x_test = x_test/255.0"
   ]
  },
  {
   "cell_type": "code",
   "execution_count": 6,
   "id": "2bcbfd62",
   "metadata": {},
   "outputs": [
    {
     "name": "stdout",
     "output_type": "stream",
     "text": [
      "(50000, 32, 32, 3) (10000, 32, 32, 3)\n"
     ]
    }
   ],
   "source": [
    "print(x_train.shape,x_test.shape)"
   ]
  },
  {
   "cell_type": "markdown",
   "id": "18dbad54",
   "metadata": {},
   "source": [
    "sklearn expects a 2D array as input to the fit() function which will be called on the model during training.\n",
    "\n",
    "and the images of the test dataset should also be resized to 2D arrays as the model will be trained with this input shape.\n",
    "In neural networks, we get to specify the input shape to the model and thus it is more flexible. But, in the case of sklearn, there are some restrictions."
   ]
  },
  {
   "cell_type": "code",
   "execution_count": 7,
   "id": "edbd2110",
   "metadata": {},
   "outputs": [],
   "source": [
    "x_train2 = x_train.reshape((50000, 32* 32* 3))\n",
    "x_test2 = x_test.reshape((10000, 32* 32* 3))"
   ]
  },
  {
   "cell_type": "code",
   "execution_count": 8,
   "id": "5958f1a5",
   "metadata": {},
   "outputs": [
    {
     "name": "stdout",
     "output_type": "stream",
     "text": [
      "(50000, 3072) (10000, 3072) (50000, 1) (10000, 1)\n"
     ]
    }
   ],
   "source": [
    "print(x_train2.shape,x_test2.shape,y_train.shape,y_test.shape)"
   ]
  },
  {
   "cell_type": "code",
   "execution_count": 34,
   "id": "d97bd243",
   "metadata": {},
   "outputs": [
    {
     "data": {
      "text/plain": [
       "array([2, 8, 8, ..., 3, 5, 7], dtype=uint8)"
      ]
     },
     "execution_count": 34,
     "metadata": {},
     "output_type": "execute_result"
    }
   ],
   "source": [
    "from sklearn.ensemble import RandomForestClassifier\n",
    "rfmodel=RandomForestClassifier()\n",
    "y_train = y_train.ravel()#DataConversionWarning: A column-vector y was passed when a 1d array was expected. Please change the shape of y to (n_samples,), for example using ravel().\n",
    "                        #rfmodel.fit(x_train2,y_train)\n",
    "rfmodel.fit(x_train2,y_train)\n",
    "rfy_pred=rfmodel.predict(x_test2)\n",
    "rfy_pred\n"
   ]
  },
  {
   "cell_type": "markdown",
   "id": "e1921848",
   "metadata": {},
   "source": [
    "The output of rfmodel.predict(x_test2) is an array of predicted class labels for the test set x_test2. Each element in the array represents the predicted class label for the corresponding image in the test set.\n",
    "\n",
    "In your example, the array has a length equal to the number of images in the test set, and the data type is uint8, which means unsigned 8-bit integer. The predicted class labels are integers that range from 0 to 9, where each integer corresponds to one of the 10 classes in the CIFAR-10 dataset.\n",
    "\n",
    "For example, the first element of the array is 2, which means that the model predicted the first image in the test set belongs to class 2 (which in the CIFAR-10 dataset corresponds to the class \"automobile\"). Similarly, the second element of the array is 8, which means that the model predicted the second image in the test set belongs to class 8 (which corresponds to the class \"ship\").\n",
    "\n",
    "\n",
    "Output-Class\n",
    "\n",
    "0-Airplane\n",
    "1-Automobile\n",
    "2-Bird\n",
    "3-Cat\n",
    "4-Deer\n",
    "5-Dog\n",
    "6-Frog\n",
    "7-Horse\n",
    "8-Ship\n",
    "9-Truck\n",
    "\n",
    "\n",
    "You can compare the predicted class labels to the true class labels of the test set to evaluate the performance of the model. This can be done using classification metrics such as accuracy, precision, recall, and F1 score."
   ]
  },
  {
   "cell_type": "code",
   "execution_count": 10,
   "id": "e1875b41",
   "metadata": {},
   "outputs": [
    {
     "name": "stdout",
     "output_type": "stream",
     "text": [
      "              precision    recall  f1-score   support\n",
      "\n",
      "           0       0.57      0.55      0.56      1029\n",
      "           1       0.56      0.53      0.55      1059\n",
      "           2       0.33      0.37      0.35       883\n",
      "           3       0.29      0.33      0.31       880\n",
      "           4       0.40      0.41      0.40       967\n",
      "           5       0.40      0.43      0.41       919\n",
      "           6       0.56      0.48      0.51      1167\n",
      "           7       0.47      0.53      0.50       895\n",
      "           8       0.62      0.59      0.60      1055\n",
      "           9       0.55      0.48      0.51      1146\n",
      "\n",
      "    accuracy                           0.47     10000\n",
      "   macro avg       0.47      0.47      0.47     10000\n",
      "weighted avg       0.48      0.47      0.48     10000\n",
      "\n"
     ]
    }
   ],
   "source": [
    "accuracy_score(rfy_pred,y_test)\n",
    "print(classification_report(rfy_pred,y_test))"
   ]
  },
  {
   "cell_type": "markdown",
   "id": "92c5e33a",
   "metadata": {},
   "source": [
    " Random Forest Classifier shows only 47% accuracy on the test set."
   ]
  },
  {
   "cell_type": "markdown",
   "id": "9e017d16",
   "metadata": {},
   "source": [
    "K-Nearest neighbours is also used for multi-class classification."
   ]
  },
  {
   "cell_type": "code",
   "execution_count": 11,
   "id": "b1f7099c",
   "metadata": {},
   "outputs": [
    {
     "name": "stderr",
     "output_type": "stream",
     "text": [
      "C:\\HariniLearn\\lib\\site-packages\\sklearn\\neighbors\\_classification.py:228: FutureWarning: Unlike other reduction functions (e.g. `skew`, `kurtosis`), the default behavior of `mode` typically preserves the axis it acts along. In SciPy 1.11.0, this behavior will change: the default value of `keepdims` will become False, the `axis` over which the statistic is taken will be eliminated, and the value None will no longer be accepted. Set `keepdims` to True or False to avoid this warning.\n",
      "  mode, _ = stats.mode(_y[neigh_ind, k], axis=1)\n"
     ]
    },
    {
     "data": {
      "text/plain": [
       "array([2, 8, 8, ..., 5, 6, 4], dtype=uint8)"
      ]
     },
     "execution_count": 11,
     "metadata": {},
     "output_type": "execute_result"
    }
   ],
   "source": [
    "from sklearn.neighbors import KNeighborsClassifier\n",
    "knn=KNeighborsClassifier(n_neighbors=7)\n",
    "knn.fit(x_train2,y_train)\n",
    "y_pred_knn=knn.predict(x_test2)\n",
    "y_pred_knn"
   ]
  },
  {
   "cell_type": "code",
   "execution_count": 12,
   "id": "502dd237",
   "metadata": {},
   "outputs": [
    {
     "name": "stdout",
     "output_type": "stream",
     "text": [
      "              precision    recall  f1-score   support\n",
      "\n",
      "           0       0.52      0.40      0.45      1299\n",
      "           1       0.20      0.70      0.30       280\n",
      "           2       0.44      0.22      0.29      2013\n",
      "           3       0.20      0.28      0.23       707\n",
      "           4       0.52      0.23      0.32      2222\n",
      "           5       0.20      0.40      0.27       504\n",
      "           6       0.27      0.35      0.30       761\n",
      "           7       0.20      0.70      0.31       281\n",
      "           8       0.69      0.39      0.50      1749\n",
      "           9       0.14      0.73      0.23       184\n",
      "\n",
      "    accuracy                           0.34     10000\n",
      "   macro avg       0.34      0.44      0.32     10000\n",
      "weighted avg       0.45      0.34      0.35     10000\n",
      "\n"
     ]
    }
   ],
   "source": [
    "accuracy_score(y_pred_knn,y_test)\n",
    "print(classification_report(y_pred_knn,y_test))"
   ]
  },
  {
   "cell_type": "markdown",
   "id": "bb1da047",
   "metadata": {},
   "source": [
    "KNN Classifier shows only 34% accuracy on the test set."
   ]
  },
  {
   "cell_type": "markdown",
   "id": "97d776f9",
   "metadata": {},
   "source": [
    "Decision Tree Classifier Model"
   ]
  },
  {
   "cell_type": "code",
   "execution_count": 13,
   "id": "77d4efac",
   "metadata": {},
   "outputs": [
    {
     "data": {
      "text/plain": [
       "array([7, 1, 9, ..., 2, 5, 4], dtype=uint8)"
      ]
     },
     "execution_count": 13,
     "metadata": {},
     "output_type": "execute_result"
    }
   ],
   "source": [
    "from sklearn.tree import DecisionTreeClassifier\n",
    "dtc=DecisionTreeClassifier()\n",
    "dtc.fit(x_train2,y_train)\n",
    "y_pred_dtc=dtc.predict(x_test2)\n",
    "y_pred_dtc"
   ]
  },
  {
   "cell_type": "code",
   "execution_count": 14,
   "id": "85b4a161",
   "metadata": {},
   "outputs": [
    {
     "name": "stdout",
     "output_type": "stream",
     "text": [
      "              precision    recall  f1-score   support\n",
      "\n",
      "           0       0.34      0.33      0.34      1043\n",
      "           1       0.28      0.28      0.28       965\n",
      "           2       0.23      0.21      0.22      1082\n",
      "           3       0.17      0.17      0.17       947\n",
      "           4       0.24      0.22      0.23      1059\n",
      "           5       0.23      0.24      0.23       960\n",
      "           6       0.27      0.28      0.27       939\n",
      "           7       0.27      0.28      0.28       966\n",
      "           8       0.39      0.36      0.38      1078\n",
      "           9       0.29      0.30      0.29       961\n",
      "\n",
      "    accuracy                           0.27     10000\n",
      "   macro avg       0.27      0.27      0.27     10000\n",
      "weighted avg       0.27      0.27      0.27     10000\n",
      "\n"
     ]
    }
   ],
   "source": [
    "accuracy_score(y_pred_dtc,y_test)\n",
    "print(classification_report(y_pred_dtc,y_test))"
   ]
  },
  {
   "cell_type": "markdown",
   "id": "27a27783",
   "metadata": {},
   "source": [
    "Decision tree Classifier shows only 27% accuracy on the test set."
   ]
  },
  {
   "cell_type": "markdown",
   "id": "f17e6af2",
   "metadata": {},
   "source": [
    "Naive Bayes classifier model"
   ]
  },
  {
   "cell_type": "code",
   "execution_count": 15,
   "id": "beb20fda",
   "metadata": {},
   "outputs": [
    {
     "data": {
      "text/plain": [
       "array([6, 8, 8, ..., 6, 5, 4], dtype=uint8)"
      ]
     },
     "execution_count": 15,
     "metadata": {},
     "output_type": "execute_result"
    }
   ],
   "source": [
    "from sklearn.naive_bayes import GaussianNB\n",
    "nb=GaussianNB()\n",
    "nb.fit(x_train2,y_train)\n",
    "y_pred_nb=nb.predict(x_test2)\n",
    "y_pred_nb"
   ]
  },
  {
   "cell_type": "code",
   "execution_count": 16,
   "id": "be5ea1f8",
   "metadata": {},
   "outputs": [
    {
     "name": "stdout",
     "output_type": "stream",
     "text": [
      "              precision    recall  f1-score   support\n",
      "\n",
      "           0       0.49      0.27      0.35      1817\n",
      "           1       0.17      0.41      0.24       405\n",
      "           2       0.08      0.19      0.12       443\n",
      "           3       0.08      0.25      0.12       305\n",
      "           4       0.42      0.24      0.30      1737\n",
      "           5       0.26      0.31      0.29       840\n",
      "           6       0.47      0.25      0.33      1846\n",
      "           7       0.13      0.42      0.20       310\n",
      "           8       0.47      0.39      0.42      1219\n",
      "           9       0.41      0.38      0.39      1078\n",
      "\n",
      "    accuracy                           0.30     10000\n",
      "   macro avg       0.30      0.31      0.28     10000\n",
      "weighted avg       0.39      0.30      0.32     10000\n",
      "\n"
     ]
    }
   ],
   "source": [
    "accuracy_score(y_pred_nb,y_test)\n",
    "print(classification_report(y_pred_nb,y_test))"
   ]
  },
  {
   "cell_type": "markdown",
   "id": "fc1ec52e",
   "metadata": {},
   "source": [
    " Naive Bayes Classifier shows only 30% accuracy on the test set."
   ]
  },
  {
   "cell_type": "code",
   "execution_count": 17,
   "id": "6c786664",
   "metadata": {
    "scrolled": true
   },
   "outputs": [
    {
     "data": {
      "image/png": "[encoded data removed]",
      "text/plain": [
       "<Figure size 640x480 with 1 Axes>"
      ]
     },
     "metadata": {},
     "output_type": "display_data"
    }
   ],
   "source": [
    "models = ['Random Forest', 'KNN', 'NB', 'Decision Tree','CNN']#Convolution Neural Network is a Deep learning Model\n",
    "accuracies = [47, 34, 30, 27, 90]\n",
    "plt.bar(models, accuracies, label='Models', color='b')\n",
    "plt.legend()\n",
    "plt.xlabel('Model')\n",
    "plt.ylabel('Accuracy')\n",
    "plt.title('Comparison of Machine Learning models against Deep Learning model Accuracies for CIFAR-10')#The CIFAR-10 dataset is a popular computer vision benchmark dataset consisting of 50,000 training images and 10,000 testing images. Import from tensorflow package, keras lib\n",
    "plt.show()\n"
   ]
  },
  {
   "cell_type": "markdown",
   "id": "a8f4afa9",
   "metadata": {},
   "source": [
    "Solution: Among the Machine Learning Models Random Forest Model predictions has better acucuracy, but for image classification  Deep learning model like CNN (Convolution Neural Network) is most suited as classification accuracy is much higher."
   ]
  },
  {
   "cell_type": "code",
   "execution_count": 171,
   "id": "49f7e9d3",
   "metadata": {},
   "outputs": [],
   "source": [
    "img_path='dog6.png'\n",
    "img_arr=cv2.imread(img_path)\n",
    "img_arr=cv2.resize(img_arr,(32,32))"
   ]
  },
  {
   "cell_type": "code",
   "execution_count": 172,
   "id": "a84a1ae4",
   "metadata": {},
   "outputs": [],
   "source": [
    "img_arr2 = img_arr.reshape(1,(32*32*3))"
   ]
  },
  {
   "cell_type": "code",
   "execution_count": 173,
   "id": "e78302e0",
   "metadata": {},
   "outputs": [
    {
     "name": "stdout",
     "output_type": "stream",
     "text": [
      "dog\n"
     ]
    }
   ],
   "source": [
    "classes = [\"airplane\",\"automobile\",\"bird\",\"cat\",\"deer\",\"dog\",\"frog\",\"horse\",\"ship\",\"truck\"]\n",
    "ans=rfmodel.predict(img_arr2)\n",
    "print(classes[ans[0]])"
   ]
  },
  {
   "cell_type": "code",
   "execution_count": null,
   "id": "2d33f431",
   "metadata": {},
   "outputs": [],
   "source": []
  },
  {
   "cell_type": "code",
   "execution_count": null,
   "id": "587b0a73",
   "metadata": {},
   "outputs": [],
   "source": []
  }
 ],
 "metadata": {
  "kernelspec": {
   "display_name": "Python 3 (ipykernel)",
   "language": "python",
   "name": "python3"
  },
  "language_info": {
   "codemirror_mode": {
    "name": "ipython",
    "version": 3
   },
   "file_extension": ".py",
   "mimetype": "text/x-python",
   "name": "python",
   "nbconvert_exporter": "python",
   "pygments_lexer": "ipython3",
   "version": "3.9.13"
  }
 },
 "nbformat": 4,
 "nbformat_minor": 5
}
